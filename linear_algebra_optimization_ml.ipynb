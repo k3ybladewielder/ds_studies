{
 "cells": [
  {
   "cell_type": "markdown",
   "id": "c6c7a207",
   "metadata": {},
   "source": [
    "# Álgebra Linear e Otimização para Machine Learning"
   ]
  },
  {
   "cell_type": "markdown",
   "id": "d7c2e649",
   "metadata": {},
   "source": [
    "Notas e resumos do estudo sobre álgebra linear e otimização focado em machine learning, baseado no livro \n",
    "_[Linear Algebra and Optimization for Machine Learning](https://doi.org/10.1007/978-3-030-40344-7)_ de Charu C. Aggarwal. Para facilitar a localização das notas, estou utilizando o sumário do livro nos tópicos."
   ]
  },
  {
   "cell_type": "code",
   "execution_count": 1,
   "id": "246b8cb7",
   "metadata": {
    "ExecuteTime": {
     "end_time": "2022-11-15T11:13:28.325254Z",
     "start_time": "2022-11-15T11:13:28.300150Z"
    }
   },
   "outputs": [],
   "source": [
    "import math\n",
    "import latexify\n",
    "import numpy as np"
   ]
  },
  {
   "cell_type": "markdown",
   "id": "5fb40126",
   "metadata": {},
   "source": [
    "# Notações\n",
    "- Vetores ou data points multidimensionais serão representados pela notação com barra como $\\bar{X}$ ou $\\bar{y}$.\n",
    "- Os produtos entre vetores serão representandos com pontos centralizados $\\bar{X}$ ${\\cdot}$ $\\bar{Y}$.\n",
    "- Uma matrix será representada por uma letra maíscula sem barra, como R.\n",
    "- Matrizes n × d correspondem a todo o data set de treinamento, denotado por D, com n pontos de dados e d dimensões.\n",
    "- Os data points individuais em D são vetores linhas d-dimensionais e são denotados por $\\bar{X}$1... $\\bar{X}$n\n",
    "- Vetores com um componente para cada data point são vetores colunas n-dimensionais.\n"
   ]
  },
  {
   "cell_type": "markdown",
   "id": "242b5f61",
   "metadata": {},
   "source": [
    "# Álgebra Linear e Otimização: Uma Introdução"
   ]
  },
  {
   "cell_type": "markdown",
   "id": "253c93e6",
   "metadata": {
    "ExecuteTime": {
     "end_time": "2022-11-14T19:53:39.326906Z",
     "start_time": "2022-11-14T19:53:39.321124Z"
    }
   },
   "source": [
    "## Introdução"
   ]
  },
  {
   "cell_type": "markdown",
   "id": "22a12c10",
   "metadata": {},
   "source": [
    "- Modelos de machine learninig contrõem modelos matemáticos a partir dos dados, que contêm multiplos atributos ou variáveis. \n",
    "- O relacionamento entre o modelo e os dados são expressos de forma linear ou não linear.\n",
    "- Esses relacionamentos são descobertos de forma data driven otimizando (maximizando) o ajuste (\"agreement\") entre o modelo e os dados observados\n",
    "- Álgebra linear é o *estudo de operações lineares em espaços vetoriais*. Um espaço vetorial é o conjunto infinito de todas as coordenadas cartesianas em duas dimensões em relação a um ponto fixo, a origem. Álgebra linear pode ser vista como uma forma de generalização da geometria de coordenadas Cartesiana em d-dimensões.\n",
    "- Em machine learning, o conjunto de dados é representado com multiplas dimensões (atributos).\n",
    "- Uma prática comum é aplicar funções lineares a vetores com alta dimencionalidade para extrair suas propriedades analíticas."
   ]
  },
  {
   "cell_type": "markdown",
   "id": "0daa67f0",
   "metadata": {},
   "source": [
    "## Scalars, Vetores e Matrizes"
   ]
  },
  {
   "cell_type": "markdown",
   "id": "53985191",
   "metadata": {
    "ExecuteTime": {
     "end_time": "2022-11-15T11:40:33.435515Z",
     "start_time": "2022-11-15T11:40:33.428005Z"
    }
   },
   "source": [
    "<img src=\"scalar-vector-matrix.jpg\">\n",
    "\n",
    "- Scalars: São valores numéricos individuais normalmente extraídos do domínio real em machine learning, como o atritubo \"idade\".\n",
    "\n",
    "- Vetores: São arrays de valores numéricos (arrays de escalares). Também são referidos como coordenadas. Os valores numéricos individuais dos arrays são chamados de entidades, componentes ou dimensões do vetor. E o número de componentes é referido como dimensionalidade do vetor. Um vetor de 3 dimensões de uma pessoa de 25 anos, fazendo 30 USD por hora e possuindo 5 anos de experiência é representado como um array com os números [25, 30, 5]\n",
    "\n",
    "- Matrizes: São arrays de números retangulares que contêm linhas e colunas. Para acessarmos o elemento na matriz, devemos especificar o índice da linha e o índice da coluna (i, j). O tamanho da matriz é denotada por n x d, sendo n o número de indivíduos e d o número de dimensões. Quando uma matriz possui o mesmo número de linhas e colunas, é chamada de square matrix ou matriz quadrada, nos demais casos de matriz retangular.\n",
    "\n",
    "- Por padrão, vetores são assumidos como vetores coluna em álgebra linear"
   ]
  },
  {
   "cell_type": "markdown",
   "id": "368ce733",
   "metadata": {},
   "source": [
    "### Operações Básicas com Scalars e Vetores"
   ]
  },
  {
   "cell_type": "markdown",
   "id": "d49ae7a0",
   "metadata": {
    "ExecuteTime": {
     "end_time": "2022-11-15T12:33:14.191627Z",
     "start_time": "2022-11-15T12:33:14.186862Z"
    }
   },
   "source": [
    "- Vetores de mesma dimensionalidade podem ser somados ou subtraídos.\n",
    "- Considerando dois vetor de d-dimensões $\\bar{x} = [x1... xd]$ e $\\bar{y} = [yi...yd]$, podem ser somados como \n",
    "\n",
    "<center> $\\bar{x} + \\bar{y}$ = $[xi...xd] + [yi...yd] = [x1 + yi... xd + yd]$ </center>\n",
    "\n",
    "assim como subtraídos da mesma forma \n",
    "\n",
    "<center> $\\bar{x} + \\bar{y} = [xi...xd] - [yi...yd] = [x1 - yi... xd - yd]$ </center>\n",
    "\n",
    "- A adição de vetores é comutativa (como adição escalar) porquê $\\bar{x}$ + $\\bar{y}$ = $\\bar{y}$ + $\\bar{x}$\n",
    "\n",
    "- É possível multiplicar um vetor com um escalar, multiplicando cada elemento do vetor com o escalar. Multiplicando o vetor $\\bar{x} = [x1... xd]$ escalado pelo fator de a\n",
    "\n",
    "<center> $\\bar{x}' = a\\bar{x} = [ax1...axd]$ </center>\n",
    "\n",
    "- Um comprimento (length) do vetor pode ser escalado, não alterando a sua direção com uma multiplicação escalar. Considere o vetor $\\bar{x}$ contendo o número de unidades vendidas de um produto, o número de unidades vendidas pode ser convertida em milhões de unidades vendidas ao multiplicar o vetor com a = 10⁻⁶.\n",
    "\n",
    "- Os vetores podem ser multiplicados com a noção do produto escalar (dot produt). O produto escalar entre dois vetores é a soma da multiplicação elemento a elemento de seus componentes individuais. \n",
    "\n",
    "<center> $\\bar{x} \\cdot \\bar{y} = \\sum_{i=1}^{d} xiyi $</center>\n",
    "\n",
    "- [inserir gif de multiplicação de matrizes]\n",
    "\n",
    "- O produto escalar dos vetores $\\bar{x}$ = [1, 2, 3] e $\\bar{y}$ = [6, 5, 4] pode ser computado da seguinte forma:\n",
    "\n",
    "<center> $\\bar{x} \\cdot \\bar{y} = (1)(6) + (2)(5) + (3)(4) = 28$ </center> \n",
    "\n",
    "- O produto escalar é um caso especial de uma operação mais geral, chamada de produto interno, e preserva muitas regras fundamentais da geometria euclidiana. O espaço de vetores que inclui uma operação de produto escalar é chamado de espaço euclidiano. O produto escalar é uma operação comutativa\n",
    "\n",
    "<center> $\\bar{x} \\cdot \\bar{y} = \\sum_{i=1}^{d} xiyi = \\sum_{i=1}^{d}yixi = \\bar{y} \\cdot \\bar{x}$</center>\n",
    "\n",
    "- O produto escalar também herda as propriedades distributivas da multiplicação escalar\n",
    "\n",
    "<center>$\\bar{x} \\cdot (\\bar{y}+\\bar{z}) = \\bar{x} \\cdot \\bar{y} + \\bar{x} \\cdot \\bar{z}$</center>"
   ]
  },
  {
   "cell_type": "markdown",
   "id": "ba7c7ddb",
   "metadata": {},
   "source": [
    "### Operações Básicas com Vetores e Matrices"
   ]
  },
  {
   "cell_type": "code",
   "execution_count": null,
   "id": "a49c2000",
   "metadata": {},
   "outputs": [],
   "source": []
  },
  {
   "cell_type": "markdown",
   "id": "1122bf9b",
   "metadata": {},
   "source": [
    "### Classes Especiais de Matrizes"
   ]
  },
  {
   "cell_type": "markdown",
   "id": "19346d14",
   "metadata": {},
   "source": [
    "### Potência de Matrizes, Polinomaisi e Inversas"
   ]
  },
  {
   "cell_type": "markdown",
   "id": "a698563f",
   "metadata": {},
   "source": [
    "### Inversão Lemma de Matrizes: Invertendo a Soma de Matrizes"
   ]
  },
  {
   "cell_type": "markdown",
   "id": "1eb01474",
   "metadata": {},
   "source": [
    "### Norma de Frobenius, Trace e Energia"
   ]
  },
  {
   "cell_type": "markdown",
   "id": "f3c50731",
   "metadata": {},
   "source": [
    "## Multiplicação de Matrizes como Decomposable Operator"
   ]
  },
  {
   "cell_type": "markdown",
   "id": "b75dfdad",
   "metadata": {},
   "source": [
    "### Multiplicação de MAtrizes como Decomposable Row e Column Operators"
   ]
  },
  {
   "cell_type": "markdown",
   "id": "24a2f57d",
   "metadata": {},
   "source": [
    "### Multiplicação de MAtrizes como Decomposable Geometric Operators"
   ]
  },
  {
   "cell_type": "markdown",
   "id": "b36c363c",
   "metadata": {},
   "source": [
    "## Problemas Básicos em Machine Learning"
   ]
  },
  {
   "cell_type": "markdown",
   "id": "188d2a23",
   "metadata": {},
   "source": [
    "### Fatorização de Matrizes"
   ]
  },
  {
   "cell_type": "markdown",
   "id": "738971c0",
   "metadata": {},
   "source": [
    "### Clusterização"
   ]
  },
  {
   "cell_type": "markdown",
   "id": "752766de",
   "metadata": {},
   "source": [
    "### Modelagem de Classificação e Regressão"
   ]
  },
  {
   "cell_type": "markdown",
   "id": "be86c218",
   "metadata": {},
   "source": [
    "### Detecção de Outliers"
   ]
  },
  {
   "cell_type": "markdown",
   "id": "752c36c6",
   "metadata": {},
   "source": [
    "## Otimização para Machine Learning"
   ]
  },
  {
   "cell_type": "markdown",
   "id": "f02687a8",
   "metadata": {},
   "source": [
    "### Expansão de Taylor para Simplificação de Funções"
   ]
  },
  {
   "cell_type": "markdown",
   "id": "318782e5",
   "metadata": {},
   "source": [
    "### Exemplos de Otimização em Machine Learning"
   ]
  },
  {
   "cell_type": "markdown",
   "id": "af08d6cf",
   "metadata": {},
   "source": [
    "### Otimização em Grafos Computacionais"
   ]
  },
  {
   "cell_type": "markdown",
   "id": "e7fe0445",
   "metadata": {},
   "source": [
    "## Summary"
   ]
  },
  {
   "cell_type": "markdown",
   "id": "8861b8fb",
   "metadata": {},
   "source": [
    "## Exercícios"
   ]
  },
  {
   "cell_type": "code",
   "execution_count": null,
   "id": "a1676a7c",
   "metadata": {},
   "outputs": [],
   "source": []
  },
  {
   "cell_type": "code",
   "execution_count": null,
   "id": "2439fff7",
   "metadata": {},
   "outputs": [],
   "source": []
  },
  {
   "cell_type": "code",
   "execution_count": null,
   "id": "7e25674c",
   "metadata": {},
   "outputs": [],
   "source": []
  },
  {
   "cell_type": "code",
   "execution_count": null,
   "id": "acb8dbb2",
   "metadata": {},
   "outputs": [],
   "source": []
  },
  {
   "cell_type": "code",
   "execution_count": null,
   "id": "c18568b2",
   "metadata": {},
   "outputs": [],
   "source": []
  },
  {
   "cell_type": "code",
   "execution_count": null,
   "id": "d34eee0d",
   "metadata": {},
   "outputs": [],
   "source": []
  },
  {
   "cell_type": "code",
   "execution_count": null,
   "id": "4bd88771",
   "metadata": {},
   "outputs": [],
   "source": []
  },
  {
   "cell_type": "code",
   "execution_count": null,
   "id": "5d2884ce",
   "metadata": {},
   "outputs": [],
   "source": []
  },
  {
   "cell_type": "code",
   "execution_count": null,
   "id": "457701ef",
   "metadata": {},
   "outputs": [],
   "source": []
  },
  {
   "cell_type": "code",
   "execution_count": null,
   "id": "0efd91d1",
   "metadata": {},
   "outputs": [],
   "source": []
  },
  {
   "cell_type": "markdown",
   "id": "1a40fa31",
   "metadata": {},
   "source": [
    "- latexfy\n",
    "https://colab.research.google.com/drive/1MuiawKpVIZ12MWwyYuzZHmbKThdM5wNJ?usp=sharing#scrollTo=hViDMhyMFNCO"
   ]
  },
  {
   "cell_type": "code",
   "execution_count": 2,
   "id": "757c54ed",
   "metadata": {
    "ExecuteTime": {
     "end_time": "2022-11-15T11:13:28.328455Z",
     "start_time": "2022-11-15T11:13:28.326514Z"
    }
   },
   "outputs": [],
   "source": [
    "# ocultar células"
   ]
  }
 ],
 "metadata": {
  "kernelspec": {
   "display_name": "Python 3 (ipykernel)",
   "language": "python",
   "name": "python3"
  },
  "language_info": {
   "codemirror_mode": {
    "name": "ipython",
    "version": 3
   },
   "file_extension": ".py",
   "mimetype": "text/x-python",
   "name": "python",
   "nbconvert_exporter": "python",
   "pygments_lexer": "ipython3",
   "version": "3.10.6"
  },
  "toc": {
   "base_numbering": 1,
   "nav_menu": {},
   "number_sections": true,
   "sideBar": true,
   "skip_h1_title": false,
   "title_cell": "Table of Contents",
   "title_sidebar": "Contents",
   "toc_cell": false,
   "toc_position": {
    "height": "calc(100% - 180px)",
    "left": "10px",
    "top": "150px",
    "width": "341.465px"
   },
   "toc_section_display": true,
   "toc_window_display": true
  },
  "varInspector": {
   "cols": {
    "lenName": 16,
    "lenType": 16,
    "lenVar": 40
   },
   "kernels_config": {
    "python": {
     "delete_cmd_postfix": "",
     "delete_cmd_prefix": "del ",
     "library": "var_list.py",
     "varRefreshCmd": "print(var_dic_list())"
    },
    "r": {
     "delete_cmd_postfix": ") ",
     "delete_cmd_prefix": "rm(",
     "library": "var_list.r",
     "varRefreshCmd": "cat(var_dic_list()) "
    }
   },
   "types_to_exclude": [
    "module",
    "function",
    "builtin_function_or_method",
    "instance",
    "_Feature"
   ],
   "window_display": false
  }
 },
 "nbformat": 4,
 "nbformat_minor": 5
}
